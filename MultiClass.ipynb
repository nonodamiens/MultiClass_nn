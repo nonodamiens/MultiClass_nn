{
 "cells": [
  {
   "cell_type": "markdown",
   "metadata": {},
   "source": [
    "# A MultiClass Neural Network #\n",
    "\n",
    "Let's try coding a Multiclass neural network from scratch"
   ]
  },
  {
   "cell_type": "code",
   "execution_count": 1,
   "metadata": {},
   "outputs": [],
   "source": [
    "# import useful librairies\n",
    "import numpy as np\n",
    "import matplotlib.pyplot as plt"
   ]
  },
  {
   "cell_type": "code",
   "execution_count": 2,
   "metadata": {},
   "outputs": [],
   "source": [
    "# Let's make a multilabel dataset\n",
    "\n",
    "# Initialize randomness\n",
    "np.random.seed(42)\n",
    "\n",
    "# Our dataset is made of coded numbers\n",
    "zero = np.array([[1],[1],[1],[0],[1],[1],[1]])\n",
    "one = np.array([[0],[0],[0],[0],[0],[1],[1]])\n",
    "two = np.array([[0],[1],[1],[1],[1],[1],[0]])\n",
    "three = np.array([[0],[0],[1],[1],[1],[1],[1]])\n",
    "four = np.array([[1],[0],[0],[1],[0],[1],[1]])\n",
    "five = np.array([[1],[0],[1],[1],[1],[0],[1]])\n",
    "six = np.array([[1],[1],[1],[1],[1],[0],[1]])\n",
    "seven = np.array([[0],[0],[1],[0],[0],[1],[1]])\n",
    "eight = np.array([[1],[1],[1],[1],[1],[1],[1]])\n",
    "nine = np.array([[1],[0],[1],[1],[1],[1],[1]])\n",
    "\n",
    "# A function to decode our number\n",
    "def decode_num(x):\n",
    "    r = x\n",
    "    r = np.insert(r, 0, [0])\n",
    "    r = np.insert(r, -2, [0])\n",
    "    r = r.reshape(9,1)\n",
    "    r = np.append(r[:3], np.append(r[3:6], r[6:], axis = 1), axis = 1)\n",
    "    stringa = ''\n",
    "    stringb = ''\n",
    "    stringc = ''\n",
    "    for i,y in enumerate(r):\n",
    "        for j,v in enumerate(y):\n",
    "            if i == 0:\n",
    "                if v == 1 and j == 1:\n",
    "                    stringa = stringa + '_'\n",
    "                else:\n",
    "                    stringa = stringa + ' '\n",
    "            if i == 1:\n",
    "                if v == 1 and j == 1:\n",
    "                    stringb = stringb + '_'\n",
    "                elif v == 1:\n",
    "                    stringb = stringb + '|'\n",
    "                else:\n",
    "                    stringb = stringb + ' '\n",
    "            if i == 2:\n",
    "                if v == 1 and j == 1:\n",
    "                    stringc = stringc + '_'\n",
    "                elif v == 1:\n",
    "                    stringc = stringc + '|'\n",
    "                else:\n",
    "                    stringc = stringc + ' '\n",
    "    print(stringa)\n",
    "    print(stringb)\n",
    "    print(stringc)"
   ]
  },
  {
   "cell_type": "code",
   "execution_count": 3,
   "metadata": {},
   "outputs": [],
   "source": [
    "# Making m examples from our coded numbers\n",
    "m = 2000\n",
    "# Choosing randomly the numbers for m examples\n",
    "pre_dataset = np.random.randint(0, 10, (1, m))\n",
    "\n",
    "# Setting labels\n",
    "Y = np.zeros(0)\n",
    "for v in pre_dataset[0]:\n",
    "    Y = np.append(Y, [0 for x in range(v)] +[1] + [0 for x in range(9-v)])\n",
    "Y = Y.reshape(m,10)\n",
    "\n",
    "# Setting inputs\n",
    "numbers = [zero, one, two, three, four, five, six, seven, eight, nine]\n",
    "X = np.zeros(0)\n",
    "for v in pre_dataset[0]:\n",
    "    X = np.append(X, [numbers[v]])\n",
    "X = X.reshape(m,7)\n",
    "\n",
    "# Let's check if everything works find\n",
    "# for i, v in enumerate(Y):\n",
    "#     decode_num(X[i])\n",
    "#     print('label : ' , np.where(v == 1)[0])"
   ]
  },
  {
   "cell_type": "code",
   "execution_count": 4,
   "metadata": {},
   "outputs": [],
   "source": [
    "# Activation function\n",
    "def activation(x, function = 'sigmoid'):\n",
    "    if function == 'sigmoid':\n",
    "        return 1/(1+np.exp(-x))\n",
    "    else:\n",
    "        raise NotImplementedError"
   ]
  },
  {
   "cell_type": "code",
   "execution_count": 17,
   "metadata": {},
   "outputs": [
    {
     "name": "stdout",
     "output_type": "stream",
     "text": [
      "LOOP :  0  Loss :  5192.038467233169  Accuracy :  9.049999999999999\n",
      "LOOP :  100  Loss :  934.9863747569821  Accuracy :  100.0\n",
      "LOOP :  200  Loss :  376.7627681887709  Accuracy :  100.0\n",
      "LOOP :  300  Loss :  196.4478727674454  Accuracy :  100.0\n",
      "LOOP :  400  Loss :  124.71050095645916  Accuracy :  100.0\n",
      "LOOP :  500  Loss :  89.92788179309913  Accuracy :  100.0\n",
      "LOOP :  600  Loss :  69.94092025810028  Accuracy :  100.0\n",
      "LOOP :  700  Loss :  57.08257874035495  Accuracy :  100.0\n",
      "LOOP :  800  Loss :  48.1532487235081  Accuracy :  100.0\n",
      "LOOP :  900  Loss :  41.605592963172015  Accuracy :  100.0\n"
     ]
    },
    {
     "data": {
      "image/png": "[encoded data removed]",
      "text/plain": [
       "<Figure size 432x288 with 1 Axes>"
      ]
     },
     "metadata": {
      "needs_background": "light"
     },
     "output_type": "display_data"
    },
    {
     "name": "stdout",
     "output_type": "stream",
     "text": [
      "100.0\n"
     ]
    }
   ],
   "source": [
    "# The neural network\n",
    "\n",
    "# the architecture (hidden layers)\n",
    "N = [4]\n",
    "m = X.shape[0]\n",
    "\n",
    "# Adding the input and output layers\n",
    "N = [X.shape[1]] + N + [Y.shape[1]]\n",
    "\n",
    "# Weights and bias\n",
    "np.random.seed(42)\n",
    "W = [np.random.randn(N[r], N[r+1]) for r in range(len(N)-1) ]\n",
    "b = [np.zeros((1, N[r+1])) for r in range(len(N)-1)]\n",
    "\n",
    "# Hyperparameters\n",
    "lr = 10e-4\n",
    "epoch = 1000\n",
    "costs = []\n",
    "\n",
    "# The training\n",
    "for i in range(epoch):\n",
    "    A = [X]\n",
    "\n",
    "# Forward\n",
    "    for l in range(len(N)-1):\n",
    "        # the last layer\n",
    "        if l == len(N) - 2:\n",
    "            # compute the softmax\n",
    "            Z = np.dot(A[l], W[l]) + b[l]\n",
    "            # Normalize Z to avoid Softmax big numbers\n",
    "            Z = Z - np.amax(Z, axis=1, keepdims=True)\n",
    "            Ypred = np.exp(Z) / np.sum(np.exp(Z), axis=1, keepdims=True)\n",
    "        else:\n",
    "            Z = np.dot(A[l], W[l]) + b[l]\n",
    "            A.append(activation(Z))\n",
    "\n",
    "# Loss\n",
    "    L = np.sum(-Y * np.log(Ypred))\n",
    "    costs.append(L)\n",
    "    if i % 100 == 0:\n",
    "        pred_inter = (Ypred == np.max(Ypred, axis=1, keepdims=True)) * 1.\n",
    "        accuracy_inter  = np.sum(np.all(pred_inter==Y,axis=1))/pred_inter.shape[0]*100\n",
    "        print('LOOP : ', i , ' Loss : ', L, ' Accuracy : ', accuracy_inter)\n",
    "    \n",
    "# Backward\n",
    "    dw = []\n",
    "    db = []\n",
    "    dz = Ypred - Y\n",
    "    dw.insert(0, np.dot(A[-1].T, dz))\n",
    "    db.insert(0, np.sum(dz, axis = 0, keepdims=True))\n",
    "    for l in range(len(N) - 2):\n",
    "        dz = np.dot(dz, W[-l-1].T) * (A[-l-1] * (1 - A[-l-1]))\n",
    "        dw.insert(0, np.dot(A[-l-2].T, dz))\n",
    "        db.insert(0, np.sum(dz, axis = 0, keepdims=True))\n",
    "    \n",
    "# Update\n",
    "    for l in range(len(N)-1):\n",
    "        W[l] = W[l] - lr * dw[l]\n",
    "        b[l] = b[l] - lr * db[l]\n",
    "        \n",
    "# Let's show the loss evolution\n",
    "plt.plot(np.squeeze(costs))\n",
    "plt.ylabel('cost')\n",
    "plt.xlabel('iterations (per hundreds)')\n",
    "plt.title(\"Learning rate =\" + str(lr))\n",
    "plt.show()\n",
    "\n",
    "# Show the last accuracy\n",
    "pred = (Ypred == np.max(Ypred, axis=1, keepdims=True)) * 1\n",
    "accuracy  = np.sum(np.all(pred==Y,axis=1))/pred.shape[0]*100\n",
    "print(accuracy)"
   ]
  },
  {
   "cell_type": "code",
   "execution_count": 6,
   "metadata": {},
   "outputs": [
    {
     "name": "stdout",
     "output_type": "stream",
     "text": [
      "0.1\n",
      "10.0\n",
      "toto 200\n",
      "True\n",
      "wrong2 : 1800\n",
      "0.1\n"
     ]
    },
    {
     "data": {
      "text/plain": [
       "90.0"
      ]
     },
     "execution_count": 6,
     "metadata": {},
     "output_type": "execute_result"
    }
   ],
   "source": [
    "##### cellule de test\n",
    "prediction = (Ypred == np.amax(Ypred, axis = 1, keepdims=True)) * 1.\n",
    "print(np.sum((prediction + Y == 2) * 1.)/2000)\n",
    "accuracy = (np.sum((prediction+Y==2)*1)/prediction.shape[0])*100\n",
    "print(accuracy)\n",
    "(1 - (np.sum((prediction + Y == 2) * 1.) / prediction.shape[0])) * 100\n",
    "\n",
    "toto=np.sum((prediction + Y == 2)*1)\n",
    "print('toto',toto)\n",
    "# print('toto : ',np.sum(toto))\n",
    "\n",
    "wrong=0\n",
    "for i in range(prediction.shape[0]):\n",
    "    if (prediction[i] == Y[i]).all():\n",
    "        wrong += 1\n",
    "        \n",
    "print((prediction[4] + Y[4] == 1).any())        \n",
    "wrong2=0\n",
    "for i in range(2000):\n",
    "    r = prediction[i] + Y[i] == 1\n",
    "    if r.any() == True:\n",
    "        wrong2 += 1\n",
    "print('wrong2 :',wrong2)\n",
    "        \n",
    "print(wrong/2000)\n",
    "(1 - wrong/2000)*100"
   ]
  }
 ],
 "metadata": {
  "kernelspec": {
   "display_name": "Python 3",
   "language": "python",
   "name": "python3"
  },
  "language_info": {
   "codemirror_mode": {
    "name": "ipython",
    "version": 3
   },
   "file_extension": ".py",
   "mimetype": "text/x-python",
   "name": "python",
   "nbconvert_exporter": "python",
   "pygments_lexer": "ipython3",
   "version": "3.7.1"
  }
 },
 "nbformat": 4,
 "nbformat_minor": 2
}
