{
 "cells": [
  {
   "cell_type": "markdown",
   "metadata": {},
   "source": [
    "# A MultiClass Neural Network #\n",
    "\n",
    "Let's try coding a Multiclass neural network from scratch"
   ]
  },
  {
   "cell_type": "code",
   "execution_count": 1,
   "metadata": {},
   "outputs": [],
   "source": [
    "# import useful librairies\n",
    "import numpy as np\n",
    "import matplotlib.pyplot as plt"
   ]
  },
  {
   "cell_type": "code",
   "execution_count": 3,
   "metadata": {},
   "outputs": [],
   "source": [
    "# Let's make a multilabel dataset\n",
    "\n",
    "# Initialize randomness\n",
    "np.random.seed(42)\n",
    "\n",
    "# Our dataset is made of coded numbers\n",
    "zero = np.array([[1],[1],[1],[0],[1],[1],[1]])\n",
    "one = np.array([[0],[0],[0],[0],[0],[1],[1]])\n",
    "two = np.array([[0],[1],[1],[1],[1],[1],[0]])\n",
    "three = np.array([[0],[0],[1],[1],[1],[1],[1]])\n",
    "four = np.array([[1],[0],[0],[1],[0],[1],[1]])\n",
    "five = np.array([[1],[0],[1],[1],[1],[0],[1]])\n",
    "six = np.array([[1],[1],[1],[1],[1],[0],[1]])\n",
    "seven = np.array([[0],[0],[1],[0],[0],[1],[1]])\n",
    "eight = np.array([[1],[1],[1],[1],[1],[1],[1]])\n",
    "nine = np.array([[1],[0],[1],[1],[1],[1],[1]])\n",
    "\n",
    "# A function to decode our number\n",
    "def decode_num(x):\n",
    "    r = x\n",
    "    r = np.insert(r, 0, [0])\n",
    "    r = np.insert(r, -2, [0])\n",
    "    r = r.reshape(9,1)\n",
    "    r = np.append(r[:3], np.append(r[3:6], r[6:], axis = 1), axis = 1)\n",
    "    stringa = ''\n",
    "    stringb = ''\n",
    "    stringc = ''\n",
    "    for i,y in enumerate(r):\n",
    "        for j,v in enumerate(y):\n",
    "            if i == 0:\n",
    "                if v == 1 and j == 1:\n",
    "                    stringa = stringa + '_'\n",
    "                else:\n",
    "                    stringa = stringa + ' '\n",
    "            if i == 1:\n",
    "                if v == 1 and j == 1:\n",
    "                    stringb = stringb + '_'\n",
    "                elif v == 1:\n",
    "                    stringb = stringb + '|'\n",
    "                else:\n",
    "                    stringb = stringb + ' '\n",
    "            if i == 2:\n",
    "                if v == 1 and j == 1:\n",
    "                    stringc = stringc + '_'\n",
    "                elif v == 1:\n",
    "                    stringc = stringc + '|'\n",
    "                else:\n",
    "                    stringc = stringc + ' '\n",
    "    print(stringa)\n",
    "    print(stringb)\n",
    "    print(stringc)"
   ]
  },
  {
   "cell_type": "code",
   "execution_count": 4,
   "metadata": {},
   "outputs": [],
   "source": [
    "# Making m examples from our coded numbers\n",
    "m = 2000\n",
    "# Choosing randomly the numbers for m examples\n",
    "pre_dataset = np.random.randint(0, 10, (1, m))\n",
    "\n",
    "# Setting labels\n",
    "Y = np.zeros(0)\n",
    "for v in pre_dataset[0]:\n",
    "    Y = np.append(Y, [0 for x in range(v)] +[1] + [0 for x in range(9-v)])\n",
    "Y = Y.reshape(m,10)\n",
    "\n",
    "# Setting inputs\n",
    "numbers = [zero, one, two, three, four, five, six, seven, eight, nine]\n",
    "X = np.zeros(0)\n",
    "for v in pre_dataset[0]:\n",
    "    X = np.append(X, [numbers[v]])\n",
    "X = X.reshape(m,7)\n",
    "\n",
    "# Let's check if everything works find\n",
    "# for i, v in enumerate(Y):\n",
    "#     decode_num(X[i])\n",
    "#     print('label : ' , np.where(v == 1)[0])"
   ]
  },
  {
   "cell_type": "code",
   "execution_count": 5,
   "metadata": {},
   "outputs": [],
   "source": [
    "# Activation function\n",
    "def activation(x, function = 'sigmoid'):\n",
    "    if function == 'sigmoid':\n",
    "        return 1/(1+np.exp(-x))\n",
    "    else:\n",
    "        raise NotImplementedError"
   ]
  },
  {
   "cell_type": "code",
   "execution_count": 13,
   "metadata": {},
   "outputs": [
    {
     "name": "stdout",
     "output_type": "stream",
     "text": [
      "X shape :  (2000, 7)\n",
      "Y shape :  (2000, 10)\n",
      "Archi :  [7, 20, 4, 10]\n",
      "LOOP :  0  Loss :  2.9195691046111962\n",
      "Accuracy :  20.200000000000003\n",
      "LOOP :  100  Loss :  2.437441884561882\n",
      "Accuracy :  20.4\n",
      "LOOP :  200  Loss :  2.266095956832223\n",
      "Accuracy :  20.4\n",
      "LOOP :  300  Loss :  2.197380118174305\n",
      "Accuracy :  20.4\n",
      "LOOP :  400  Loss :  2.153491342102736\n",
      "Accuracy :  20.4\n",
      "LOOP :  500  Loss :  2.1174279666539504\n",
      "Accuracy :  20.4\n",
      "LOOP :  600  Loss :  2.0846608679356025\n",
      "Accuracy :  20.4\n",
      "LOOP :  700  Loss :  2.0539610850663936\n",
      "Accuracy :  20.4\n",
      "LOOP :  800  Loss :  2.0250715362132237\n",
      "Accuracy :  10.0\n",
      "LOOP :  900  Loss :  1.9979712609793003\n",
      "Accuracy :  10.0\n"
     ]
    },
    {
     "data": {
      "image/png": "[encoded data removed]",
      "text/plain": [
       "<Figure size 432x288 with 1 Axes>"
      ]
     },
     "metadata": {
      "needs_background": "light"
     },
     "output_type": "display_data"
    },
    {
     "name": "stdout",
     "output_type": "stream",
     "text": [
      "10.0\n"
     ]
    }
   ],
   "source": [
    "# The neural network\n",
    "\n",
    "# Initialisation\n",
    "# the architecture (hidden layers)\n",
    "N = [20, 4]\n",
    "m = X.shape[0]\n",
    "\n",
    "# Adding the input and output layers\n",
    "N = [X.shape[1]] + N + [Y.shape[1]]\n",
    "\n",
    "# Check X, Y and N\n",
    "print('X shape : ', X.shape)\n",
    "print('Y shape : ', Y.shape)\n",
    "print('Archi : ', N)\n",
    "\n",
    "# Weights and bias\n",
    "np.random.seed(2)\n",
    "W = [np.random.randn(N[r], N[r+1]) for r in range(len(N)-1) ]\n",
    "b = [np.zeros((1, N[r+1])) for r in range(len(N)-1)]\n",
    "\n",
    "# Hyperparameters\n",
    "lr = 0.01\n",
    "epoch = 1000\n",
    "costs = []\n",
    "\n",
    "# The training\n",
    "for i in range(epoch):\n",
    "    A = [X]\n",
    "    # Forward\n",
    "    for l in range(len(N)-1):\n",
    "#         print('LAYER : ', l+1)\n",
    "        # the last layer\n",
    "        if l == len(N) - 2:\n",
    "            # compute the softmax\n",
    "            Z = np.dot(A[l], W[l]) + b[l]\n",
    "            # Normalize Z to avoid Softmax big numbers\n",
    "            Z = Z - np.amax(Z, axis=1, keepdims=True)\n",
    "            Ypred = np.exp(Z) / np.sum(np.exp(Z), axis=1, keepdims=True)\n",
    "        else:\n",
    "#             print(A[l].shape)\n",
    "#             print(W[l].shape)\n",
    "            Z = np.dot(A[l], W[l]) + b[l]\n",
    "            A.append(activation(Z))\n",
    "#         print(A[l].shape)\n",
    "    \n",
    "#     print('Ypred : ', Ypred.shape)\n",
    "#     print(np.around(Ypred[:10],2))\n",
    "#     print(np.around(Y[:10],2))\n",
    "    # Cost\n",
    "    L = np.sum(-Y * np.log(Ypred))\n",
    "#     print('L = ', L)\n",
    "    C = np.sum(L) / m\n",
    "    costs.append(C)\n",
    "    pred_inter = (Ypred == np.max(Ypred, axis=1, keepdims=True)) * 1.\n",
    "#     print(pred[:10])\n",
    "#     print(Y[:10])\n",
    "    accuracy_inter  = (np.sum((pred_inter+Y==2)*1)/pred_inter.shape[0])*100\n",
    "    if i % 100 == 0:\n",
    "        print('LOOP : ', i , ' Loss : ', C)\n",
    "        print('Accuracy : ', accuracy_inter)\n",
    "    \n",
    "    # Backward\n",
    "    dw = []\n",
    "    db = []\n",
    "    dz = Ypred - Y # (m 10)\n",
    "    dw.insert(0, np.dot(A[-1].T, dz) / m) # (m p)\n",
    "    db.insert(0, np.sum(dz, axis = 0, keepdims=True) / m) # (1 p)\n",
    "    for l in reversed(range(len(N) - 2)):\n",
    "        dz = np.dot(dz, W[l+1].T) * (A[l+1] * (1 - A[l+1]))\n",
    "        dw.insert(0, np.dot(A[l].T, dz) / m)\n",
    "        db.insert(0, np.sum(dz, axis = 0, keepdims=True) / m)\n",
    "    \n",
    "#     for v in dw:\n",
    "#         print('dw : ', v.shape)\n",
    "    \n",
    "    # Update\n",
    "    for l in range(len(N)-1):\n",
    "#         print('update : ',W[l].shape)\n",
    "#         print(dw[l].shape)\n",
    "        W[l] = W[l] - lr * dw[l]\n",
    "        b[l] = b[l] - lr * db[l]\n",
    "        \n",
    "# Let's show the loss evolution\n",
    "plt.plot(np.squeeze(costs))\n",
    "plt.ylabel('cost')\n",
    "plt.xlabel('iterations (per hundreds)')\n",
    "plt.title(\"Learning rate =\" + str(lr))\n",
    "plt.show()\n",
    "\n",
    "pred = (Ypred == np.max(Ypred, axis=1, keepdims=True)) * 1\n",
    "accuracy  = (np.sum((pred+Y==2)*1)/pred.shape[0])*100\n",
    "print(accuracy)\n",
    "    \n",
    "        \n",
    "    "
   ]
  },
  {
   "cell_type": "code",
   "execution_count": 93,
   "metadata": {},
   "outputs": [
    {
     "name": "stdout",
     "output_type": "stream",
     "text": [
      "0.106\n",
      "10.6\n",
      "toto 212\n",
      "False\n",
      "wrong2 : 1788\n",
      "0.106\n"
     ]
    },
    {
     "data": {
      "text/plain": [
       "89.4"
      ]
     },
     "execution_count": 93,
     "metadata": {},
     "output_type": "execute_result"
    }
   ],
   "source": [
    "##### cellule de test\n",
    "prediction = (Ypred == np.amax(Ypred, axis = 1, keepdims=True)) * 1.\n",
    "print(np.sum((prediction + Y == 2) * 1.)/2000)\n",
    "accuracy = (np.sum((prediction+Y==2)*1)/prediction.shape[0])*100\n",
    "print(accuracy)\n",
    "(1 - (np.sum((prediction + Y == 2) * 1.) / prediction.shape[0])) * 100\n",
    "\n",
    "toto=np.sum((prediction + Y == 2)*1)\n",
    "print('toto',toto)\n",
    "# print('toto : ',np.sum(toto))\n",
    "\n",
    "wrong=0\n",
    "for i in range(prediction.shape[0]):\n",
    "    if (prediction[i] == Y[i]).all():\n",
    "        wrong += 1\n",
    "        \n",
    "print((prediction[4] + Y[4] == 1).any())        \n",
    "wrong2=0\n",
    "for i in range(2000):\n",
    "    r = prediction[i] + Y[i] == 1\n",
    "    if r.any() == True:\n",
    "        wrong2 += 1\n",
    "print('wrong2 :',wrong2)\n",
    "        \n",
    "print(wrong/2000)\n",
    "(1 - wrong/2000)*100"
   ]
  }
 ],
 "metadata": {
  "kernelspec": {
   "display_name": "Python 3",
   "language": "python",
   "name": "python3"
  },
  "language_info": {
   "codemirror_mode": {
    "name": "ipython",
    "version": 3
   },
   "file_extension": ".py",
   "mimetype": "text/x-python",
   "name": "python",
   "nbconvert_exporter": "python",
   "pygments_lexer": "ipython3",
   "version": "3.7.1"
  }
 },
 "nbformat": 4,
 "nbformat_minor": 2
}
